{
 "cells": [
  {
   "cell_type": "markdown",
   "metadata": {},
   "source": [
    "Before we get started making fun games and stuff, this looks different from Trinket, doesn't it? The tool we're using now is called Jupyter Notebook. Here, your code is organized into chunks called \"cells\" which can be run independently of one another. Your variables are stored after you run a cell, so you can re-use them in the next cell. This lets you work with the code more interactively.\n",
    "\n",
    "First, let's try running some code. Click to the left of the cell with the print statement in it (it should turn blue), and then press Shift + Enter to run it. "
   ]
  },
  {
   "cell_type": "code",
   "execution_count": null,
   "metadata": {
    "collapsed": true
   },
   "outputs": [],
   "source": [
    "print('This is a cell!')"
   ]
  },
  {
   "cell_type": "markdown",
   "metadata": {},
   "source": [
    "Some other things you might want to do in a Jupyter Notebook (select the cell by clicking to the left of it first):\n",
    "- Add a new cell: press a (add above the current cell) or b (add below the current cell)\n",
    "- Delete the selected cell: press d twice\n",
    "- Save your code at the end of a session! Your code won't be saved on the server, so you need to download the file and then re-upload it next time. Click <b>File>Download as>Notebook (.ipynb)</b>. \n",
    "\n",
    "If you want to learn more tricks for using Jupyter Notebooks later, there's a tutorial [here](https://hub.mybinder.org/user/jvns-pandas-cookbook-zcq5n6op/notebooks/cookbook/A%20quick%20tour%20of%20IPython%20Notebook.ipynb). For now, we've got some code written below to make the game Connect 4. We use a few things here that we haven't talked about before, but don't panic! With the person next to you, try to answer the following questions (you don’t need to write anything down, just be able to explain it to one another!):\n",
    "- Can you explain what the <b>functions</b> drop_piece() and four_in_a_row() do? What are their inputs and outputs?\n",
    "- We use <b>if statements</b> in 3 different places in the program. What conditions are we checking for, and what do we do if the conditions are met?\n",
    "- We use a <b>for loop</b> in the function four_in_a_row(). What does this do? What does it mean that we have a for loop inside of another for loop?\n",
    "- We use 2 <b>while loops</b> in this program. Where are they and what are they doing?\n",
    "- What are some examples of <b>variables</b> used in this program?\n",
    "\n",
    "When you've finished going through the code, think about what the differences are between Connect 4 and tic tac toe. How do these differences map onto the code you've been looking at? What parts of the code would you need to change if you wanted to make tic tac toe?\n",
    "\n",
    "...Now try it! Using our code as a starting point, can you make a working version of tic tac toe?\n"
   ]
  },
  {
   "cell_type": "code",
   "execution_count": 2,
   "metadata": {
    "collapsed": true
   },
   "outputs": [],
   "source": [
    "import matplotlib.pyplot as plt\n",
    "import numpy as np"
   ]
  },
  {
   "cell_type": "code",
   "execution_count": 230,
   "metadata": {
    "collapsed": true
   },
   "outputs": [],
   "source": [
    "def drop_piece(board, column):\n",
    "    row = board.shape[0] - 1\n",
    "    dropped = False\n",
    "    while (row >= 0) & (not dropped):\n",
    "        if board[row, column] == 0:\n",
    "            board[row, column] = player_number\n",
    "            dropped = True\n",
    "        else:\n",
    "            row = row - 1\n",
    "    return board, row, dropped\n",
    "\n",
    "def four_in_a_row(board, row, column):\n",
    "    \n",
    "    # Get a list of horizontal, vertical, and diagonal lines involving the piece that was just added\n",
    "    lines = []\n",
    "\n",
    "    # Horizontal & vertical\n",
    "    lines.append(board[:, column])\n",
    "    lines.append(board[row])\n",
    "    \n",
    "    # Diagonal\n",
    "    w = board.shape[1] - 1\n",
    "    h = board.shape[0] - 1        \n",
    "    distance_to_left = min([row, column]) * -1\n",
    "    distance_to_right = min([h - row, w - column]) + 1    \n",
    "    lines.append([board[row + n, column + n] for n in range(distance_to_left, distance_to_right)])    \n",
    "    distance_to_left = min([row, w - column]) * -1\n",
    "    distance_to_right = min([h - row, column]) + 1\n",
    "    lines.append([board[row + n, column - n] for n in range(distance_to_left, distance_to_right)])\n",
    "\n",
    "    # Split each list into chunks of four and check each to see if all values are a) the same and b) not zero\n",
    "    fours = []\n",
    "    for line in lines:\n",
    "        for n in range(len(line) - 3):\n",
    "            four = line[n:n+4]\n",
    "            if (four[0] == four).all() & (four[0] != 0):\n",
    "                return True\n",
    "    return False\n",
    "\n",
    "def show_board(board):\n",
    "    plt.imshow(board, vmin = 0, vmax = 2)\n",
    "    for i in range(board.shape[0]):\n",
    "        for j in range(board.shape[1]):\n",
    "            text = plt.gca().text(j, i, board[i, j],\n",
    "                           ha=\"center\", va=\"center\", color=\"w\")\n",
    "    plt.gca().set_yticks([])\n",
    "    plt.show()"
   ]
  },
  {
   "cell_type": "code",
   "execution_count": 231,
   "metadata": {
    "scrolled": true
   },
   "outputs": [
    {
     "data": {
      "image/png": "[encoded data removed]",
      "text/plain": [
       "<matplotlib.figure.Figure at 0x10d24f518>"
      ]
     },
     "metadata": {},
     "output_type": "display_data"
    },
    {
     "name": "stdout",
     "output_type": "stream",
     "text": [
      "Player 1, pick a column!\n",
      "0\n"
     ]
    },
    {
     "data": {
      "image/png": "[encoded data removed]",
      "text/plain": [
       "<matplotlib.figure.Figure at 0x10d3675c0>"
      ]
     },
     "metadata": {},
     "output_type": "display_data"
    },
    {
     "name": "stdout",
     "output_type": "stream",
     "text": [
      "Player 2, pick a column!\n",
      "0\n"
     ]
    },
    {
     "data": {
      "image/png": "[encoded data removed]",
      "text/plain": [
       "<matplotlib.figure.Figure at 0x105be7e80>"
      ]
     },
     "metadata": {},
     "output_type": "display_data"
    },
    {
     "name": "stdout",
     "output_type": "stream",
     "text": [
      "Player 1, pick a column!\n",
      "1\n"
     ]
    },
    {
     "data": {
      "image/png": "[encoded data removed]",
      "text/plain": [
       "<matplotlib.figure.Figure at 0x10c6c5ba8>"
      ]
     },
     "metadata": {},
     "output_type": "display_data"
    },
    {
     "name": "stdout",
     "output_type": "stream",
     "text": [
      "Player 2, pick a column!\n",
      "1\n"
     ]
    },
    {
     "data": {
      "image/png": "[encoded data removed]",
      "text/plain": [
       "<matplotlib.figure.Figure at 0x10ca372e8>"
      ]
     },
     "metadata": {},
     "output_type": "display_data"
    },
    {
     "name": "stdout",
     "output_type": "stream",
     "text": [
      "Player 1, pick a column!\n",
      "2\n"
     ]
    },
    {
     "data": {
      "image/png": "[encoded data removed]",
      "text/plain": [
       "<matplotlib.figure.Figure at 0x10d010d30>"
      ]
     },
     "metadata": {},
     "output_type": "display_data"
    },
    {
     "name": "stdout",
     "output_type": "stream",
     "text": [
      "Player 2, pick a column!\n",
      "2\n"
     ]
    },
    {
     "data": {
      "image/png": "[encoded data removed]",
      "text/plain": [
       "<matplotlib.figure.Figure at 0x10cff3518>"
      ]
     },
     "metadata": {},
     "output_type": "display_data"
    },
    {
     "name": "stdout",
     "output_type": "stream",
     "text": [
      "Player 1, pick a column!\n",
      "3\n"
     ]
    },
    {
     "data": {
      "image/png": "[encoded data removed]",
      "text/plain": [
       "<matplotlib.figure.Figure at 0x10d453080>"
      ]
     },
     "metadata": {},
     "output_type": "display_data"
    },
    {
     "name": "stdout",
     "output_type": "stream",
     "text": [
      "Player 1 wins!\n"
     ]
    }
   ],
   "source": [
    "board = np.zeros((6, 7), dtype = int)\n",
    "playing = True\n",
    "player_number = 1    \n",
    "    \n",
    "while playing:\n",
    "    \n",
    "    show_board(board)\n",
    "    column = int(input('Player ' + str(player_number) + ', pick a column!\\n'))\n",
    "    board, row, dropped = drop_piece(board, column)\n",
    "    \n",
    "    if dropped:\n",
    "        if four_in_a_row(board, row, column):\n",
    "            playing = False\n",
    "            show_board(board)\n",
    "            print('Player ' + str(player_number) + ' wins!')        \n",
    "        elif not (board == 0).any():\n",
    "            playing = False\n",
    "            show_board(board)\n",
    "            print('Game over!')        \n",
    "        player_number = 2 if player_number == 1 else 1     \n",
    "    else:\n",
    "        print('Sorry, that column is full. Try again!')\n",
    "\n",
    "\n"
   ]
  }
 ],
 "metadata": {
  "kernelspec": {
   "display_name": "Python 3",
   "language": "python",
   "name": "python3"
  },
  "language_info": {
   "codemirror_mode": {
    "name": "ipython",
    "version": 3
   },
   "file_extension": ".py",
   "mimetype": "text/x-python",
   "name": "python",
   "nbconvert_exporter": "python",
   "pygments_lexer": "ipython3",
   "version": "3.5.3"
  }
 },
 "nbformat": 4,
 "nbformat_minor": 2
}
