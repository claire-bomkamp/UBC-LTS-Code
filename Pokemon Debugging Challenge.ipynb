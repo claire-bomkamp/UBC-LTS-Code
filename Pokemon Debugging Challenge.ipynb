{
 "cells": [
  {
   "cell_type": "markdown",
   "metadata": {},
   "source": [
    "Each of the plots below has some kind of mistake. See if you can find them!"
   ]
  },
  {
   "cell_type": "code",
   "execution_count": null,
   "metadata": {
    "collapsed": true
   },
   "outputs": [],
   "source": [
    "import numpy as np\n",
    "import matplotlib.pyplot as plt\n",
    "import seaborn as sns\n",
    "import pandas as pd\n",
    "import ast\n",
    "\n",
    "plt.style.use('seaborn-ticks')"
   ]
  },
  {
   "cell_type": "code",
   "execution_count": null,
   "metadata": {
    "collapsed": true
   },
   "outputs": [],
   "source": [
    "pokemon_data = pd.read_csv(\"https://raw.githubusercontent.com/n2cholas/pokemon-analysis/master@%7B2019-03-13%7D/pokemon-data.csv\", \n",
    "                           sep = ';', converters={'Types':ast.literal_eval, 'Abilities':ast.literal_eval, 'Moves':ast.literal_eval})\n",
    "move_data = pd.read_csv('https://raw.githubusercontent.com/n2cholas/pokemon-analysis/master@%7B2019-03-13%7D/move-data.csv', \n",
    "                        sep = ';', index_col = 0)\n",
    "for var in ['Power', 'Accuracy']:\n",
    "    move_data[var].replace('None', np.nan, inplace=True)\n",
    "    move_data[var] = move_data[var].astype(float)"
   ]
  },
  {
   "cell_type": "code",
   "execution_count": null,
   "metadata": {},
   "outputs": [],
   "source": [
    "move_data.head()"
   ]
  },
  {
   "cell_type": "code",
   "execution_count": null,
   "metadata": {},
   "outputs": [],
   "source": [
    "for contest in move_data.Contest.unique():\n",
    "    data_subset = move_data[move_data.Move_Contest == contest]\n",
    "    plt.scatter(data_subset.Power, \n",
    "                data_subset.Accuracy, label = contest)\n",
    "    plt.xlabel('Power')\n",
    "    plt.ylabel('Accuracy')\n",
    "plt.legend(loc = 'lower left', bbox_to_anchor = (1, 0))\n",
    "plt.show()"
   ]
  },
  {
   "cell_type": "code",
   "execution_count": null,
   "metadata": {},
   "outputs": [],
   "source": [
    "for generation in move_data.Generation.unique():\n",
    "    print(generation)\n",
    "    data_subset = move_data[move_data.Generation == generation].dropna()\n",
    "    subset_label = 'Generation ' + generation\n",
    "    sns.kdeplot(data_subset.Power, label = subset_label, shade = True)\n",
    "    plt.xlabel('Power')\n",
    "    plt.ylabel('How many Pokemon')\n",
    "plt.show()"
   ]
  },
  {
   "cell_type": "markdown",
   "metadata": {},
   "source": [
    "Hint: What does `str` mean in Python?"
   ]
  },
  {
   "cell_type": "code",
   "execution_count": null,
   "metadata": {},
   "outputs": [],
   "source": [
    "plt.scatter(pokemon_data.Attack, \n",
    "            pokemon_data['Special Attack'], color = pokemon_data.Defense, cmap = 'cool', alpha = 0.5)\n",
    "plt.xlabel('Attack')\n",
    "plt.ylabel('Special Attack')\n",
    "plt.colorbar(label = 'Defense')\n",
    "plt.show()"
   ]
  },
  {
   "cell_type": "markdown",
   "metadata": {},
   "source": [
    "Hint: Remember that you can see a description of a command using `Shift + Tab`. Click inside the brackets after `plt.scatter`, hit `Shift + Tab` and you'll see a list of arguments that can go into the `scatter` function."
   ]
  }
 ],
 "metadata": {
  "kernelspec": {
   "display_name": "Python 3",
   "language": "python",
   "name": "python3"
  },
  "language_info": {
   "codemirror_mode": {
    "name": "ipython",
    "version": 3
   },
   "file_extension": ".py",
   "mimetype": "text/x-python",
   "name": "python",
   "nbconvert_exporter": "python",
   "pygments_lexer": "ipython3",
   "version": "3.5.3"
  }
 },
 "nbformat": 4,
 "nbformat_minor": 2
}
